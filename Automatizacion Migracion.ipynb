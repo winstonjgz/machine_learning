{
 "cells": [
  {
   "cell_type": "markdown",
   "id": "77b203ac-6d21-4f15-8809-5ad71e755cbe",
   "metadata": {},
   "source": [
    "## Automatizacion de Migracion de datos de Access a PostgreSQL"
   ]
  },
  {
   "cell_type": "code",
   "execution_count": null,
   "id": "cc3a9442-0695-47cb-a722-de023636847e",
   "metadata": {},
   "outputs": [],
   "source": [
    "!pip install pyodbc psycopg2"
   ]
  },
  {
   "cell_type": "markdown",
   "id": "aa1340cc-b6c1-4d1d-ba0b-8c82209a5f0b",
   "metadata": {},
   "source": [
    "### Primero se realiza la coneccion a la base de datos MDB"
   ]
  },
  {
   "cell_type": "code",
   "execution_count": 2,
   "id": "212bbd19-50da-42ee-890b-a5b034941d38",
   "metadata": {},
   "outputs": [],
   "source": [
    "import pyodbc\n",
    "\n",
    "access_db_path = r'C:\\user\\Datos\\basededatos.mdb'\n",
    "access_connection = pyodbc.connect(\n",
    "    f'DRIVER={{Microsoft Access Driver (*.mdb, *.accdb)}};DBQ={access_db_path};'\n",
    ")\n",
    "access_cursor = access_connection.cursor()"
   ]
  },
  {
   "cell_type": "markdown",
   "id": "b11b1a84-160d-4bca-bd7a-07098799658b",
   "metadata": {},
   "source": [
    "### Segundo se realiza la conexion con PostgreSQL"
   ]
  },
  {
   "cell_type": "code",
   "execution_count": 3,
   "id": "d0b5ab02-4353-4391-a704-90ab404cfaa9",
   "metadata": {},
   "outputs": [],
   "source": [
    "import psycopg2\n",
    "\n",
    "pg_connection = psycopg2.connect(\n",
    "    host=\"localhost\",\n",
    "    database=\"analisis_datos\",\n",
    "    user=\"user\",\n",
    "    password=\"password\"\n",
    ")\n",
    "pg_cursor = pg_connection.cursor()"
   ]
  },
  {
   "cell_type": "code",
   "execution_count": 13,
   "id": "853d8812-78d5-4c07-a9ba-db442c3d96b4",
   "metadata": {},
   "outputs": [],
   "source": [
    "def check_postgres_connection(pg_connection):\n",
    "    try:\n",
    "        if pg_connection.closed == 0:\n",
    "            print(\"La conexión a PostgreSQL es exitosa.\")\n",
    "        else:\n",
    "            print(\"La conexión a PostgreSQL está cerrada.\")\n",
    "    except Exception as e:\n",
    "        print(f\"Error al verificar la conexión: {e}\")\n"
   ]
  },
  {
   "cell_type": "markdown",
   "id": "38586317-eff4-4ac6-a79c-e348acda38ad",
   "metadata": {},
   "source": [
    "### Verificar conexion PostgreSQL"
   ]
  },
  {
   "cell_type": "code",
   "execution_count": null,
   "id": "365cf0da-82e3-4e07-ad72-811661a68672",
   "metadata": {},
   "outputs": [],
   "source": [
    "pg_cursor.execute(\"SELECT version()\")\n",
    "version = pg_cursor.fetchone()\n",
    "print(f\"Versión de PostgreSQL: {version}\")\n"
   ]
  },
  {
   "cell_type": "code",
   "execution_count": null,
   "id": "25ef6bb5-46d3-4516-b8be-d8d94c25279d",
   "metadata": {},
   "outputs": [],
   "source": [
    "check_postgres_connection(pg_connection)\n"
   ]
  },
  {
   "cell_type": "markdown",
   "id": "c073c495-c410-4c56-9980-b63ddd2a0f6c",
   "metadata": {},
   "source": [
    "### Obtener la estructura de access"
   ]
  },
  {
   "cell_type": "code",
   "execution_count": 23,
   "id": "dc15eb24-16a8-4691-a478-caec09fc9da3",
   "metadata": {},
   "outputs": [],
   "source": [
    "def get_access_table_structure(cursor, table_name):\n",
    "    cursor.execute(f\"SELECT * FROM {table_name} WHERE 1=0\")  # No obtiene registros, solo la estructura\n",
    "    columns = cursor.description\n",
    "    structure = []\n",
    "    for column in columns:\n",
    "        name = column[0]\n",
    "        # Mapear tipos de Access a tipos equivalentes en PostgreSQL\n",
    "        access_type = \"TEXT\"  # Como ejemplo, ajustar según el tipo de dato real\n",
    "        if \"int\" in column[1].__name__:\n",
    "            access_type = \"INTEGER\"\n",
    "        elif \"float\" in column[1].__name__:\n",
    "            access_type = \"FLOAT\"\n",
    "        elif \"date\" in column[1].__name__:\n",
    "            access_type = \"TIMESTAMP\"\n",
    "        structure.append((name, access_type))\n",
    "    return structure\n"
   ]
  },
  {
   "cell_type": "markdown",
   "id": "4ba3da9e-a4f6-4f84-9b37-dc87e89566e2",
   "metadata": {},
   "source": [
    "### Crear la Tabla en PostgreSQL"
   ]
  },
  {
   "cell_type": "code",
   "execution_count": 24,
   "id": "7b1f71ae-7f88-45a9-b1af-3d87b4cf3b0b",
   "metadata": {},
   "outputs": [],
   "source": [
    "def create_postgres_table(pg_cursor, table_name, structure):\n",
    "    columns_definition = \", \".join([f'\"{col_name}\" {col_type}' for col_name, col_type in structure])\n",
    "    create_table_query = f'CREATE TABLE IF NOT EXISTS \"{table_name}\" ({columns_definition});'\n",
    "    \n",
    "    try:\n",
    "        pg_cursor.execute(create_table_query)\n",
    "    except Exception as e:\n",
    "        print(f\"Error al crear la tabla '{table_name}': {e}\")\n",
    "\n"
   ]
  },
  {
   "cell_type": "markdown",
   "id": "3df3195f-0825-4c9c-8bb0-010bc2197723",
   "metadata": {},
   "source": [
    "### Integracion de estructura de tablas"
   ]
  },
  {
   "cell_type": "code",
   "execution_count": null,
   "id": "32137927-3908-419d-bfde-ded29543e9fa",
   "metadata": {},
   "outputs": [],
   "source": [
    "access_table_name = \"analisis_ventas\"\n",
    "postgres_table_name = access_table_name  # Puedes cambiar el nombre si es necesario\n",
    "\n",
    "# Obtiene la estructura desde Access\n",
    "structure = get_access_table_structure(access_cursor, access_table_name)\n",
    "\n",
    "# Crea la tabla en PostgreSQL\n",
    "create_postgres_table(pg_cursor, postgres_table_name, structure)\n",
    "pg_connection.commit()\n",
    "print(f\"Tabla '{postgres_table_name}' creada exitosamente en PostgreSQL.\")\n"
   ]
  },
  {
   "cell_type": "code",
   "execution_count": 26,
   "id": "a3affc36-7b3d-45a9-847d-f1b3db05b5c5",
   "metadata": {},
   "outputs": [],
   "source": [
    "def count_records_in_postgres(cursor, table_name):\n",
    "    try:\n",
    "        cursor.execute(f\"SELECT COUNT(*) FROM {table_name}\")\n",
    "        return cursor.fetchone()[0]\n",
    "    except Exception as e:\n",
    "        print(f\"Error al contar registros en la tabla '{table_name}': {e}\")\n",
    "        return None\n"
   ]
  },
  {
   "cell_type": "code",
   "execution_count": null,
   "id": "28bebfeb-1dce-4aee-aefd-f310b8641ba0",
   "metadata": {},
   "outputs": [],
   "source": [
    "def clean_null_characters(row):\n",
    "    # Reemplaza los caracteres nulos (\\x00) por un valor válido (por ejemplo, una cadena vacía o None)\n",
    "    return [None if isinstance(value, str) and '\\x00' in value else value for value in row]\n",
    "\n",
    "def migrate_table(access_cursor, pg_cursor, pg_connection, table_name):\n",
    "    try:\n",
    "        access_cursor.execute(f\"SELECT * FROM {table_name}\")\n",
    "        columns = [column[0] for column in access_cursor.description]  # Nombres de las columnas\n",
    "        column_names = ', '.join([f'\"{col}\"' for col in columns])  # Poner entre comillas los nombres de las columnas\n",
    "        placeholders = ', '.join(['%s'] * len(columns))\n",
    "\n",
    "        # Leer registros desde Access\n",
    "        rows = access_cursor.fetchall()\n",
    "\n",
    "        # Limpiar caracteres nulos de los datos antes de insertarlos\n",
    "        rows = [clean_null_characters(row) for row in rows]\n",
    "\n",
    "        # Limpiar la tabla antes (opcional)\n",
    "        pg_cursor.execute(f\"TRUNCATE TABLE \\\"{table_name}\\\" RESTART IDENTITY;\")  # También comillas dobles para la tabla\n",
    "        \n",
    "        # Preparar consulta de inserción\n",
    "        insert_query = f\"INSERT INTO \\\"{table_name}\\\" ({column_names}) VALUES ({placeholders})\"\n",
    "        \n",
    "        for row in rows:\n",
    "            pg_cursor.execute(insert_query, row)\n",
    "        \n",
    "        pg_connection.commit()\n",
    "        print(f\"Tabla {table_name} migrada exitosamente.\")\n",
    "\n",
    "    except Exception as e:\n",
    "        pg_connection.rollback()  # Restaura el estado si ocurre un error\n",
    "        print(f\"Error al migrar la tabla {table_name}: {e}\")\n",
    "\n",
    "# Migrar una tabla específica\n",
    "table_name = \"analisis_ventas\"\n",
    "migrate_table(access_cursor, pg_cursor, pg_connection, table_name)\n"
   ]
  },
  {
   "cell_type": "markdown",
   "id": "92914d1c-dbab-4be5-a0ea-713f2c740f7a",
   "metadata": {},
   "source": [
    "#### Contar Registros en Access"
   ]
  },
  {
   "cell_type": "code",
   "execution_count": null,
   "id": "d9057151-252d-42e7-ad4e-4f936c072196",
   "metadata": {},
   "outputs": [],
   "source": [
    "def count_records_in_access(cursor, table_name):\n",
    "    cursor.execute(f\"SELECT COUNT(*) FROM {table_name}\")\n",
    "    return cursor.fetchone()[0]\n",
    "\n",
    "# Llama a la función y almacena tanto el nombre como el conteo\n",
    "table_name = \"analisis_ventas\"\n",
    "access_count = count_records_in_access(access_cursor, table_name)\n",
    "\n",
    "# Incluye el nombre de la tabla directamente en el print\n",
    "print(f\"Registros en Access (tabla '{table_name}'): {access_count}\")"
   ]
  },
  {
   "cell_type": "code",
   "execution_count": null,
   "id": "094ce265-3ef6-4922-927e-2405a7a69823",
   "metadata": {},
   "outputs": [],
   "source": [
    "# Función para contar registros en PostgreSQL con manejo de excepciones\n",
    "def count_records_in_postgres(cursor, table_name):\n",
    "    try:\n",
    "        cursor.execute(f\"SELECT COUNT(*) FROM {table_name}\")\n",
    "        return cursor.fetchone()[0]\n",
    "    except Exception as e:\n",
    "        print(f\"Error al contar registros en la tabla '{table_name}': {e}\")\n",
    "        return None\n",
    "\n",
    "# Comprobar conexión antes de contar registros\n",
    "def check_postgres_connection(pg_connection):\n",
    "    try:\n",
    "        if pg_connection.closed == 0:\n",
    "            print(\"La conexión a PostgreSQL es exitosa.\")\n",
    "        else:\n",
    "            print(\"La conexión a PostgreSQL está cerrada.\")\n",
    "    except Exception as e:\n",
    "        print(f\"Error al verificar la conexión: {e}\")\n",
    "\n",
    "# Llama a la función para verificar la conexión\n",
    "check_postgres_connection(pg_connection)\n",
    "\n",
    "# Llama a la función para contar registros en una tabla específica\n",
    "table_name = \"analisis_ventas\"\n",
    "postgres_count = count_records_in_postgres(pg_cursor, table_name)\n",
    "if postgres_count is not None:\n",
    "    print(f\"Registros en PostgreSQL (tabla '{table_name}'): {postgres_count}\")\n",
    "else:\n",
    "    print(f\"No se pudo obtener el conteo de registros para la tabla '{table_name}'.\")\n"
   ]
  },
  {
   "cell_type": "markdown",
   "id": "cfb3a199-1891-4e3f-914f-f7b6e413128c",
   "metadata": {},
   "source": [
    "### Validar el contenido de los registros"
   ]
  },
  {
   "cell_type": "code",
   "execution_count": null,
   "id": "0df23190-79c1-41fd-81b7-bd5e6770a3a8",
   "metadata": {},
   "outputs": [],
   "source": [
    "def clean_null_characters(row):\n",
    "    # Reemplaza los caracteres nulos (\\x00) por un valor válido (por ejemplo, una cadena vacía o None)\n",
    "    return [None if isinstance(value, str) and '\\x00' in value else value for value in row]\n",
    "\n",
    "# Seleccionar un registro de Access\n",
    "access_cursor.execute(f\"SELECT TOP 1 * FROM {table_name}\")\n",
    "access_row = access_cursor.fetchone()\n",
    "print(\"Registro en Access:\", access_row)\n",
    "\n",
    "# Limpiar caracteres nulos en el registro de Access\n",
    "access_row = clean_null_characters(access_row)\n",
    "\n",
    "# Seleccionar el mismo registro de PostgreSQL\n",
    "pg_cursor.execute(f\"SELECT * FROM \\\"{table_name}\\\" LIMIT 1\")  # Asegúrate de usar comillas dobles para el nombre de la tabla\n",
    "pg_row = pg_cursor.fetchone()\n",
    "print(\"Registro en PostgreSQL:\", pg_row)\n",
    "\n",
    "# Limpiar caracteres nulos en el registro de PostgreSQL\n",
    "pg_row = clean_null_characters(pg_row)\n",
    "\n",
    "# Comparar los registros\n",
    "if access_row == pg_row:\n",
    "    print(\"El contenido del registro es idéntico.\")\n",
    "else:\n",
    "    print(\"Diferencias encontradas en los datos. Revisa la migración.\")\n",
    "\n"
   ]
  },
  {
   "cell_type": "code",
   "execution_count": null,
   "id": "da2193bb-1395-4412-a5a9-2ac117c47571",
   "metadata": {},
   "outputs": [],
   "source": [
    "# Obtener la estructura de la tabla en PostgreSQL\n",
    "pg_cursor.execute(\"SELECT column_name, data_type FROM information_schema.columns WHERE table_name = %s\", (table_name,))\n",
    "columns_pg = pg_cursor.fetchall()\n",
    "print(\"Estructura de la tabla en PostgreSQL:\", columns_pg)\n"
   ]
  },
  {
   "cell_type": "code",
   "execution_count": null,
   "id": "7d709ead-9b72-44df-b5b3-75659c9b26ff",
   "metadata": {},
   "outputs": [],
   "source": []
  }
 ],
 "metadata": {
  "kernelspec": {
   "display_name": "Python 3 (ipykernel)",
   "language": "python",
   "name": "python3"
  },
  "language_info": {
   "codemirror_mode": {
    "name": "ipython",
    "version": 3
   },
   "file_extension": ".py",
   "mimetype": "text/x-python",
   "name": "python",
   "nbconvert_exporter": "python",
   "pygments_lexer": "ipython3",
   "version": "3.12.8"
  }
 },
 "nbformat": 4,
 "nbformat_minor": 5
}
