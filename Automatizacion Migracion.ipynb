{
 "cells": [
  {
   "cell_type": "markdown",
   "id": "77b203ac-6d21-4f15-8809-5ad71e755cbe",
   "metadata": {},
   "source": [
    "## Automatizacion de Migracion de datos de Access a PostgreSQL"
   ]
  },
  {
   "cell_type": "code",
   "execution_count": 1,
   "id": "cc3a9442-0695-47cb-a722-de023636847e",
   "metadata": {},
   "outputs": [
    {
     "name": "stdout",
     "output_type": "stream",
     "text": [
      "Collecting pyodbc\n",
      "  Downloading pyodbc-5.2.0-cp312-cp312-win_amd64.whl.metadata (2.8 kB)\n",
      "Collecting psycopg2\n",
      "  Downloading psycopg2-2.9.10-cp312-cp312-win_amd64.whl.metadata (5.0 kB)\n",
      "Downloading pyodbc-5.2.0-cp312-cp312-win_amd64.whl (69 kB)\n",
      "Downloading psycopg2-2.9.10-cp312-cp312-win_amd64.whl (1.2 MB)\n",
      "   ---------------------------------------- 0.0/1.2 MB ? eta -:--:--\n",
      "   ---------------------------------------- 1.2/1.2 MB 9.6 MB/s eta 0:00:00\n",
      "Installing collected packages: pyodbc, psycopg2\n",
      "Successfully installed psycopg2-2.9.10 pyodbc-5.2.0\n"
     ]
    }
   ],
   "source": [
    "!pip install pyodbc psycopg2"
   ]
  },
  {
   "cell_type": "markdown",
   "id": "aa1340cc-b6c1-4d1d-ba0b-8c82209a5f0b",
   "metadata": {},
   "source": [
    "### Primero se realiza la coneccion a la base de datos MDB"
   ]
  },
  {
   "cell_type": "code",
   "execution_count": 2,
   "id": "212bbd19-50da-42ee-890b-a5b034941d38",
   "metadata": {},
   "outputs": [],
   "source": [
    "import pyodbc\n",
    "\n",
    "access_db_path = r'C:\\user\\Datos\\basededatos.mdb'\n",
    "access_connection = pyodbc.connect(\n",
    "    f'DRIVER={{Microsoft Access Driver (*.mdb, *.accdb)}};DBQ={access_db_path};'\n",
    ")\n",
    "access_cursor = access_connection.cursor()"
   ]
  },
  {
   "cell_type": "markdown",
   "id": "b11b1a84-160d-4bca-bd7a-07098799658b",
   "metadata": {},
   "source": [
    "### Segundo se realiza la conexion con PostgreSQL"
   ]
  },
  {
   "cell_type": "code",
   "execution_count": 3,
   "id": "d0b5ab02-4353-4391-a704-90ab404cfaa9",
   "metadata": {},
   "outputs": [],
   "source": [
    "import psycopg2\n",
    "\n",
    "pg_connection = psycopg2.connect(\n",
    "    host=\"localhost\",\n",
    "    database=\"analisis_datos\",\n",
    "    user=\"user\",\n",
    "    password=\"password\"\n",
    ")\n",
    "pg_cursor = pg_connection.cursor()"
   ]
  },
  {
   "cell_type": "code",
   "execution_count": 13,
   "id": "853d8812-78d5-4c07-a9ba-db442c3d96b4",
   "metadata": {},
   "outputs": [],
   "source": [
    "def check_postgres_connection(pg_connection):\n",
    "    try:\n",
    "        if pg_connection.closed == 0:\n",
    "            print(\"La conexión a PostgreSQL es exitosa.\")\n",
    "        else:\n",
    "            print(\"La conexión a PostgreSQL está cerrada.\")\n",
    "    except Exception as e:\n",
    "        print(f\"Error al verificar la conexión: {e}\")\n"
   ]
  },
  {
   "cell_type": "markdown",
   "id": "38586317-eff4-4ac6-a79c-e348acda38ad",
   "metadata": {},
   "source": [
    "### Verificar conexion PostgreSQL"
   ]
  },
  {
   "cell_type": "code",
   "execution_count": 15,
   "id": "365cf0da-82e3-4e07-ad72-811661a68672",
   "metadata": {},
   "outputs": [
    {
     "name": "stdout",
     "output_type": "stream",
     "text": [
      "Versión de PostgreSQL: ('PostgreSQL 17.2 on x86_64-windows, compiled by msvc-19.42.34435, 64-bit',)\n"
     ]
    }
   ],
   "source": [
    "pg_cursor.execute(\"SELECT version()\")\n",
    "version = pg_cursor.fetchone()\n",
    "print(f\"Versión de PostgreSQL: {version}\")\n"
   ]
  },
  {
   "cell_type": "code",
   "execution_count": 22,
   "id": "25ef6bb5-46d3-4516-b8be-d8d94c25279d",
   "metadata": {},
   "outputs": [
    {
     "name": "stdout",
     "output_type": "stream",
     "text": [
      "La conexión a PostgreSQL es exitosa.\n"
     ]
    }
   ],
   "source": [
    "check_postgres_connection(pg_connection)\n"
   ]
  },
  {
   "cell_type": "markdown",
   "id": "c073c495-c410-4c56-9980-b63ddd2a0f6c",
   "metadata": {},
   "source": [
    "### Obtener la estructura de access"
   ]
  },
  {
   "cell_type": "code",
   "execution_count": 23,
   "id": "dc15eb24-16a8-4691-a478-caec09fc9da3",
   "metadata": {},
   "outputs": [],
   "source": [
    "def get_access_table_structure(cursor, table_name):\n",
    "    cursor.execute(f\"SELECT * FROM {table_name} WHERE 1=0\")  # No obtiene registros, solo la estructura\n",
    "    columns = cursor.description\n",
    "    structure = []\n",
    "    for column in columns:\n",
    "        name = column[0]\n",
    "        # Mapear tipos de Access a tipos equivalentes en PostgreSQL\n",
    "        access_type = \"TEXT\"  # Como ejemplo, ajustar según el tipo de dato real\n",
    "        if \"int\" in column[1].__name__:\n",
    "            access_type = \"INTEGER\"\n",
    "        elif \"float\" in column[1].__name__:\n",
    "            access_type = \"FLOAT\"\n",
    "        elif \"date\" in column[1].__name__:\n",
    "            access_type = \"TIMESTAMP\"\n",
    "        structure.append((name, access_type))\n",
    "    return structure\n"
   ]
  },
  {
   "cell_type": "markdown",
   "id": "4ba3da9e-a4f6-4f84-9b37-dc87e89566e2",
   "metadata": {},
   "source": [
    "### Crear la Tabla en PostgreSQL"
   ]
  },
  {
   "cell_type": "code",
   "execution_count": 24,
   "id": "7b1f71ae-7f88-45a9-b1af-3d87b4cf3b0b",
   "metadata": {},
   "outputs": [],
   "source": [
    "def create_postgres_table(pg_cursor, table_name, structure):\n",
    "    columns_definition = \", \".join([f'\"{col_name}\" {col_type}' for col_name, col_type in structure])\n",
    "    create_table_query = f'CREATE TABLE IF NOT EXISTS \"{table_name}\" ({columns_definition});'\n",
    "    \n",
    "    try:\n",
    "        pg_cursor.execute(create_table_query)\n",
    "    except Exception as e:\n",
    "        print(f\"Error al crear la tabla '{table_name}': {e}\")\n",
    "\n"
   ]
  },
  {
   "cell_type": "markdown",
   "id": "3df3195f-0825-4c9c-8bb0-010bc2197723",
   "metadata": {},
   "source": [
    "### Integracion de estructura de tablas"
   ]
  },
  {
   "cell_type": "code",
   "execution_count": 25,
   "id": "32137927-3908-419d-bfde-ded29543e9fa",
   "metadata": {},
   "outputs": [
    {
     "name": "stdout",
     "output_type": "stream",
     "text": [
      "Tabla 'analisis_ventas' creada exitosamente en PostgreSQL.\n"
     ]
    }
   ],
   "source": [
    "access_table_name = \"analisis_ventas\"\n",
    "postgres_table_name = access_table_name  # Puedes cambiar el nombre si es necesario\n",
    "\n",
    "# Obtiene la estructura desde Access\n",
    "structure = get_access_table_structure(access_cursor, access_table_name)\n",
    "\n",
    "# Crea la tabla en PostgreSQL\n",
    "create_postgres_table(pg_cursor, postgres_table_name, structure)\n",
    "pg_connection.commit()\n",
    "print(f\"Tabla '{postgres_table_name}' creada exitosamente en PostgreSQL.\")\n"
   ]
  },
  {
   "cell_type": "code",
   "execution_count": 26,
   "id": "a3affc36-7b3d-45a9-847d-f1b3db05b5c5",
   "metadata": {},
   "outputs": [],
   "source": [
    "def count_records_in_postgres(cursor, table_name):\n",
    "    try:\n",
    "        cursor.execute(f\"SELECT COUNT(*) FROM {table_name}\")\n",
    "        return cursor.fetchone()[0]\n",
    "    except Exception as e:\n",
    "        print(f\"Error al contar registros en la tabla '{table_name}': {e}\")\n",
    "        return None\n"
   ]
  },
  {
   "cell_type": "code",
   "execution_count": 29,
   "id": "28bebfeb-1dce-4aee-aefd-f310b8641ba0",
   "metadata": {},
   "outputs": [
    {
     "name": "stdout",
     "output_type": "stream",
     "text": [
      "Tabla analisis_ventas migrada exitosamente.\n"
     ]
    }
   ],
   "source": [
    "def clean_null_characters(row):\n",
    "    # Reemplaza los caracteres nulos (\\x00) por un valor válido (por ejemplo, una cadena vacía o None)\n",
    "    return [None if isinstance(value, str) and '\\x00' in value else value for value in row]\n",
    "\n",
    "def migrate_table(access_cursor, pg_cursor, pg_connection, table_name):\n",
    "    try:\n",
    "        access_cursor.execute(f\"SELECT * FROM {table_name}\")\n",
    "        columns = [column[0] for column in access_cursor.description]  # Nombres de las columnas\n",
    "        column_names = ', '.join([f'\"{col}\"' for col in columns])  # Poner entre comillas los nombres de las columnas\n",
    "        placeholders = ', '.join(['%s'] * len(columns))\n",
    "\n",
    "        # Leer registros desde Access\n",
    "        rows = access_cursor.fetchall()\n",
    "\n",
    "        # Limpiar caracteres nulos de los datos antes de insertarlos\n",
    "        rows = [clean_null_characters(row) for row in rows]\n",
    "\n",
    "        # Limpiar la tabla antes (opcional)\n",
    "        pg_cursor.execute(f\"TRUNCATE TABLE \\\"{table_name}\\\" RESTART IDENTITY;\")  # También comillas dobles para la tabla\n",
    "        \n",
    "        # Preparar consulta de inserción\n",
    "        insert_query = f\"INSERT INTO \\\"{table_name}\\\" ({column_names}) VALUES ({placeholders})\"\n",
    "        \n",
    "        for row in rows:\n",
    "            pg_cursor.execute(insert_query, row)\n",
    "        \n",
    "        pg_connection.commit()\n",
    "        print(f\"Tabla {table_name} migrada exitosamente.\")\n",
    "\n",
    "    except Exception as e:\n",
    "        pg_connection.rollback()  # Restaura el estado si ocurre un error\n",
    "        print(f\"Error al migrar la tabla {table_name}: {e}\")\n",
    "\n",
    "# Migrar una tabla específica\n",
    "table_name = \"analisis_ventas\"\n",
    "migrate_table(access_cursor, pg_cursor, pg_connection, table_name)\n"
   ]
  },
  {
   "cell_type": "markdown",
   "id": "92914d1c-dbab-4be5-a0ea-713f2c740f7a",
   "metadata": {},
   "source": [
    "#### Contar Registros en Access"
   ]
  },
  {
   "cell_type": "code",
   "execution_count": 30,
   "id": "d9057151-252d-42e7-ad4e-4f936c072196",
   "metadata": {},
   "outputs": [
    {
     "name": "stdout",
     "output_type": "stream",
     "text": [
      "Registros en Access (tabla 'analisis_ventas'): 1367579\n"
     ]
    }
   ],
   "source": [
    "def count_records_in_access(cursor, table_name):\n",
    "    cursor.execute(f\"SELECT COUNT(*) FROM {table_name}\")\n",
    "    return cursor.fetchone()[0]\n",
    "\n",
    "# Llama a la función y almacena tanto el nombre como el conteo\n",
    "table_name = \"analisis_ventas\"\n",
    "access_count = count_records_in_access(access_cursor, table_name)\n",
    "\n",
    "# Incluye el nombre de la tabla directamente en el print\n",
    "print(f\"Registros en Access (tabla '{table_name}'): {access_count}\")"
   ]
  },
  {
   "cell_type": "code",
   "execution_count": 31,
   "id": "094ce265-3ef6-4922-927e-2405a7a69823",
   "metadata": {},
   "outputs": [
    {
     "name": "stdout",
     "output_type": "stream",
     "text": [
      "La conexión a PostgreSQL es exitosa.\n",
      "Registros en PostgreSQL (tabla 'analisis_ventas'): 1367579\n"
     ]
    }
   ],
   "source": [
    "# Función para contar registros en PostgreSQL con manejo de excepciones\n",
    "def count_records_in_postgres(cursor, table_name):\n",
    "    try:\n",
    "        cursor.execute(f\"SELECT COUNT(*) FROM {table_name}\")\n",
    "        return cursor.fetchone()[0]\n",
    "    except Exception as e:\n",
    "        print(f\"Error al contar registros en la tabla '{table_name}': {e}\")\n",
    "        return None\n",
    "\n",
    "# Comprobar conexión antes de contar registros\n",
    "def check_postgres_connection(pg_connection):\n",
    "    try:\n",
    "        if pg_connection.closed == 0:\n",
    "            print(\"La conexión a PostgreSQL es exitosa.\")\n",
    "        else:\n",
    "            print(\"La conexión a PostgreSQL está cerrada.\")\n",
    "    except Exception as e:\n",
    "        print(f\"Error al verificar la conexión: {e}\")\n",
    "\n",
    "# Llama a la función para verificar la conexión\n",
    "check_postgres_connection(pg_connection)\n",
    "\n",
    "# Llama a la función para contar registros en una tabla específica\n",
    "table_name = \"analisis_ventas\"\n",
    "postgres_count = count_records_in_postgres(pg_cursor, table_name)\n",
    "if postgres_count is not None:\n",
    "    print(f\"Registros en PostgreSQL (tabla '{table_name}'): {postgres_count}\")\n",
    "else:\n",
    "    print(f\"No se pudo obtener el conteo de registros para la tabla '{table_name}'.\")\n"
   ]
  },
  {
   "cell_type": "markdown",
   "id": "cfb3a199-1891-4e3f-914f-f7b6e413128c",
   "metadata": {},
   "source": [
    "### Validar el contenido de los registros"
   ]
  },
  {
   "cell_type": "code",
   "execution_count": 35,
   "id": "0df23190-79c1-41fd-81b7-bd5e6770a3a8",
   "metadata": {},
   "outputs": [
    {
     "name": "stdout",
     "output_type": "stream",
     "text": [
      "Registro en Access: ('ESTE', 'TAMANACO', 'TAMANACO A8', 'T2961', 18000034992.0, 'RES EL MADRIGAL', 9000055759.0, 5000000026.0, 0, 101345229.0, 2006, datetime.datetime(2006, 5, 5, 0, 0), 'C5000001', 15, 0, 120, 208, 1002, 'PN5D-G', 'KWH 2X120/2082X120/240V15/120A', None, 100000271675.0, 6000358532.0, 'JUAN L OLIVER P', 7001711886.0, datetime.datetime(2002, 5, 13, 0, 0), datetime.datetime(9999, 12, 31, 0, 0), 'CICNOR18', 4, 'RE01', 1010, 'E0_RES', 1133, 0, 0, 'SU100040', 680, 'SRA71014', 0.0, '53EM0362', 154, 445, 596, 649, 147, 75, 435, 882, 986, 868, 876, 638, -2.140873670578003, 18.76720428466797, 563, Decimal('85.4722'), 4.965517044067383, 15.741935729980469, 20.516128540039062, 21.0, 2.433333396911621, 2.4193549156188965, 15.741935729980469, 31.482759475708008, 31.84375, 28.5, 28.20689582824707, 22.354839324951172, -0.6539325714111328, -0.27744102478027344, -0.05105289816856384, 3.272547721862793, 1.025333285331726, -0.8275862336158752, -0.5227122902870178, -0.07565924525260925, 0.09930136054754257, 0.02389647625386715, 0.24016578495502472, 144, 488, 636, 630, 73, 75, 488, 913, 1019, 855, 818, 693, 558, datetime.datetime(2008, 1, 25, 0, 0), datetime.datetime(2007, 12, 27, 0, 0), datetime.datetime(2007, 11, 26, 0, 0), datetime.datetime(2007, 10, 26, 0, 0), datetime.datetime(2007, 9, 26, 0, 0), datetime.datetime(2007, 8, 27, 0, 0), datetime.datetime(2007, 7, 27, 0, 0), datetime.datetime(2007, 6, 26, 0, 0), datetime.datetime(2007, 5, 28, 0, 0), datetime.datetime(2007, 4, 26, 0, 0), datetime.datetime(2007, 3, 27, 0, 0), datetime.datetime(2007, 2, 26, 0, 0), datetime.datetime(2007, 1, 26, 0, 0), 0, 0, 0, 0, 0, 0, 0, 0, 0, 0, 0, 0, 0, Decimal('56.0300'), Decimal('63.0800'), Decimal('84.6000'), Decimal('84.4300'), Decimal('17.6000'), Decimal('60.3400'), Decimal('64.4100'), Decimal('128.6500'), Decimal('143.6000'), Decimal('119.1000'), Decimal('113.8400'), Decimal('93.4700'), Decimal('71.5600'), Decimal('59.8941'), Decimal('62.6689'), Decimal('79.0942'), Decimal('86.8178'), Decimal('26.5107'), Decimal('54.9009'), Decimal('63.8848'), Decimal('123.6523'), Decimal('138.9586'), Decimal('121.1700'), Decimal('121.8690'), Decimal('86.2452'), None, 7001711886.0, 1, Decimal('56.0300'), Decimal('0.0000'), Decimal('0.0000'), Decimal('0.0000'), Decimal('0.0000'), Decimal('0.0000'), Decimal('0.0000'), Decimal('0.0000'), Decimal('0.0000'), Decimal('0.0000'), 1001, 19000159460.0, '          T2961', 1132, 'C1-ALFR', 914398, 296, None, None, None, None)\n",
      "Registro en Access: ('ESTE', 'TAMANACO', 'TAMANACO A8', 'T2961', 18000034992.0, 'RES EL MADRIGAL', 9000055759.0, 5000000026.0, 0, 101345229.0, 2006, datetime.datetime(2006, 5, 5, 0, 0), 'C5000001', 15, 0, 120, 208, 1002, 'PN5D-G', 'KWH 2X120/2082X120/240V15/120A', None, 100000271675.0, 6000358532.0, 'JUAN L OLIVER P', 7001711886.0, datetime.datetime(2002, 5, 13, 0, 0), datetime.datetime(9999, 12, 31, 0, 0), 'CICNOR18', 4, 'RE01', 1010, 'E0_RES', 1133, 0, 0, 'SU100040', 680, 'SRA71014', 0.0, '53EM0362', 154, 445, 596, 649, 147, 75, 435, 882, 986, 868, 876, 638, -2.140873670578003, 18.76720428466797, 563, Decimal('85.4722'), 4.965517044067383, 15.741935729980469, 20.516128540039062, 21.0, 2.433333396911621, 2.4193549156188965, 15.741935729980469, 31.482759475708008, 31.84375, 28.5, 28.20689582824707, 22.354839324951172, -0.6539325714111328, -0.27744102478027344, -0.05105289816856384, 3.272547721862793, 1.025333285331726, -0.8275862336158752, -0.5227122902870178, -0.07565924525260925, 0.09930136054754257, 0.02389647625386715, 0.24016578495502472, 144, 488, 636, 630, 73, 75, 488, 913, 1019, 855, 818, 693, 558, datetime.datetime(2008, 1, 25, 0, 0), datetime.datetime(2007, 12, 27, 0, 0), datetime.datetime(2007, 11, 26, 0, 0), datetime.datetime(2007, 10, 26, 0, 0), datetime.datetime(2007, 9, 26, 0, 0), datetime.datetime(2007, 8, 27, 0, 0), datetime.datetime(2007, 7, 27, 0, 0), datetime.datetime(2007, 6, 26, 0, 0), datetime.datetime(2007, 5, 28, 0, 0), datetime.datetime(2007, 4, 26, 0, 0), datetime.datetime(2007, 3, 27, 0, 0), datetime.datetime(2007, 2, 26, 0, 0), datetime.datetime(2007, 1, 26, 0, 0), 0, 0, 0, 0, 0, 0, 0, 0, 0, 0, 0, 0, 0, Decimal('56.0300'), Decimal('63.0800'), Decimal('84.6000'), Decimal('84.4300'), Decimal('17.6000'), Decimal('60.3400'), Decimal('64.4100'), Decimal('128.6500'), Decimal('143.6000'), Decimal('119.1000'), Decimal('113.8400'), Decimal('93.4700'), Decimal('71.5600'), Decimal('59.8941'), Decimal('62.6689'), Decimal('79.0942'), Decimal('86.8178'), Decimal('26.5107'), Decimal('54.9009'), Decimal('63.8848'), Decimal('123.6523'), Decimal('138.9586'), Decimal('121.1700'), Decimal('121.8690'), Decimal('86.2452'), None, 7001711886.0, 1, Decimal('56.0300'), Decimal('0.0000'), Decimal('0.0000'), Decimal('0.0000'), Decimal('0.0000'), Decimal('0.0000'), Decimal('0.0000'), Decimal('0.0000'), Decimal('0.0000'), Decimal('0.0000'), 1001, 19000159460.0, '          T2961', 1132, 'C1-ALFR', 914398, 296, None, None, None, None)\n",
      "Registro en PostgreSQL: ('ESTE', 'TAMANACO', 'TAMANACO A8', 'T2961', 18000034992.0, 'RES EL MADRIGAL', 9000055759.0, 5000000026.0, 0, 101345229.0, 2006, datetime.datetime(2006, 5, 5, 0, 0), 'C5000001', 15, 0, 120, 208, 1002, 'PN5D-G', 'KWH 2X120/2082X120/240V15/120A', None, 100000271675.0, 6000358532.0, 'JUAN L OLIVER P', 7001711886.0, datetime.datetime(2002, 5, 13, 0, 0), datetime.datetime(9999, 12, 31, 0, 0), 'CICNOR18', 4, 'RE01', 1010, 'E0_RES', 1133, 0, 0, 'SU100040', 680, 'SRA71014', 0.0, '53EM0362', 154, 445, 596, 649, 147, 75, 435, 882, 986, 868, 876, 638, -2.140873670578003, 18.76720428466797, 563, '85.4722', 4.965517044067383, 15.741935729980469, 20.516128540039062, 21.0, 2.433333396911621, 2.4193549156188965, 15.741935729980469, 31.482759475708008, 31.84375, 28.5, 28.20689582824707, 22.354839324951172, -0.6539325714111328, -0.27744102478027344, -0.05105289816856384, 3.272547721862793, 1.025333285331726, -0.8275862336158752, -0.5227122902870178, -0.07565924525260925, 0.09930136054754257, 0.02389647625386715, 0.24016578495502472, 144, 488, 636, 630, 73, 75, 488, 913, 1019, 855, 818, 693, 558, datetime.datetime(2008, 1, 25, 0, 0), datetime.datetime(2007, 12, 27, 0, 0), datetime.datetime(2007, 11, 26, 0, 0), datetime.datetime(2007, 10, 26, 0, 0), datetime.datetime(2007, 9, 26, 0, 0), datetime.datetime(2007, 8, 27, 0, 0), datetime.datetime(2007, 7, 27, 0, 0), datetime.datetime(2007, 6, 26, 0, 0), datetime.datetime(2007, 5, 28, 0, 0), datetime.datetime(2007, 4, 26, 0, 0), datetime.datetime(2007, 3, 27, 0, 0), datetime.datetime(2007, 2, 26, 0, 0), datetime.datetime(2007, 1, 26, 0, 0), 0, 0, 0, 0, 0, 0, 0, 0, 0, 0, 0, 0, 0, '56.0300', '63.0800', '84.6000', '84.4300', '17.6000', '60.3400', '64.4100', '128.6500', '143.6000', '119.1000', '113.8400', '93.4700', '71.5600', '59.8941', '62.6689', '79.0942', '86.8178', '26.5107', '54.9009', '63.8848', '123.6523', '138.9586', '121.1700', '121.8690', '86.2452', None, 7001711886.0, 1, '56.0300', '0.0000', '0.0000', '0.0000', '0.0000', '0.0000', '0.0000', '0.0000', '0.0000', '0.0000', 1001, 19000159460.0, '          T2961', 1132, 'C1-ALFR', 914398, 296, None, None, None, None)\n",
      "Diferencias encontradas en los datos. Revisa la migración.\n"
     ]
    }
   ],
   "source": [
    "def clean_null_characters(row):\n",
    "    # Reemplaza los caracteres nulos (\\x00) por un valor válido (por ejemplo, una cadena vacía o None)\n",
    "    return [None if isinstance(value, str) and '\\x00' in value else value for value in row]\n",
    "\n",
    "# Seleccionar un registro de Access\n",
    "access_cursor.execute(f\"SELECT TOP 1 * FROM {table_name}\")\n",
    "access_row = access_cursor.fetchone()\n",
    "print(\"Registro en Access:\", access_row)\n",
    "\n",
    "# Limpiar caracteres nulos en el registro de Access\n",
    "access_row = clean_null_characters(access_row)\n",
    "\n",
    "# Seleccionar el mismo registro de PostgreSQL\n",
    "pg_cursor.execute(f\"SELECT * FROM \\\"{table_name}\\\" LIMIT 1\")  # Asegúrate de usar comillas dobles para el nombre de la tabla\n",
    "pg_row = pg_cursor.fetchone()\n",
    "print(\"Registro en PostgreSQL:\", pg_row)\n",
    "\n",
    "# Limpiar caracteres nulos en el registro de PostgreSQL\n",
    "pg_row = clean_null_characters(pg_row)\n",
    "\n",
    "# Comparar los registros\n",
    "if access_row == pg_row:\n",
    "    print(\"El contenido del registro es idéntico.\")\n",
    "else:\n",
    "    print(\"Diferencias encontradas en los datos. Revisa la migración.\")\n",
    "\n"
   ]
  },
  {
   "cell_type": "code",
   "execution_count": 36,
   "id": "da2193bb-1395-4412-a5a9-2ac117c47571",
   "metadata": {},
   "outputs": [
    {
     "name": "stdout",
     "output_type": "stream",
     "text": [
      "Estructura de la tabla en PostgreSQL: [('kva_08', 'integer'), ('kva_09', 'integer'), ('kva_10', 'integer'), ('kva_11', 'integer'), ('kva_12', 'integer'), ('kva_13', 'integer'), ('Num_Fases', 'integer'), ('Pto_Suministro', 'double precision'), ('Instalacion', 'double precision'), ('Edo_Inst', 'integer'), ('Cta_Contrato', 'double precision'), ('Int_Comercial', 'double precision'), ('Medidor', 'double precision'), ('Contrato', 'double precision'), ('Fecha_Alta', 'timestamp without time zone'), ('Fecha_Baja', 'timestamp without time zone'), ('Certificacion', 'integer'), ('Retail', 'integer'), ('Fec_Montaje', 'timestamp without time zone'), ('CNAE', 'integer'), ('Obj_Conex', 'double precision'), ('Ctro_Emp', 'integer'), ('CTC', 'integer'), ('DAC', 'integer'), ('AMP_PRI', 'integer'), ('REGPOLIT', 'integer'), ('AMP_SEC', 'integer'), ('CASAS', 'double precision'), ('VOL_PRI', 'integer'), ('CSMODIF_01', 'integer'), ('CSMODIF_02', 'integer'), ('Motivo_garantia', 'integer'), ('Ultimo_Contrato', 'double precision'), ('Cantidad_Contrato', 'integer'), ('CSMODIF_03', 'integer'), ('CSMODIF_04', 'integer'), ('CSMODIF_05', 'integer'), ('CSMODIF_06', 'integer'), ('CSMODIF_07', 'integer'), ('CSMODIF_08', 'integer'), ('CSMODIF_09', 'integer'), ('CSMODIF_10', 'integer'), ('CSMODIF_11', 'integer'), ('CSMODIF_12', 'integer'), ('Sociedad', 'integer'), ('Ubic_Aparato', 'double precision'), ('pendiente_mincua', 'double precision'), ('Ctro_Emplaz_UA', 'integer'), ('prom_csmo_diario', 'double precision'), ('Cod_Calle', 'integer'), ('Num_en_Calle', 'integer'), ('prom_csmo_12meses', 'integer'), ('Tipo Servicio', 'integer'), ('Tipo Unidad Lect', 'integer'), ('Estatus Contrato', 'integer'), ('VOL_SEC', 'integer'), ('CSMO_DIA_FAC1', 'double precision'), ('CSMO_DIA_FAC2', 'double precision'), ('CSMO_DIA_FAC3', 'double precision'), ('CSMO_DIA_FAC4', 'double precision'), ('CSMO_DIA_FAC5', 'double precision'), ('CSMO_DIA_FAC6', 'double precision'), ('CSMO_DIA_FAC7', 'double precision'), ('CSMO_DIA_FAC8', 'double precision'), ('CSMO_DIA_FAC9', 'double precision'), ('CSMO_DIA_FAC10', 'double precision'), ('CSMO_DIA_FAC11', 'double precision'), ('CSMO_DIA_FAC12', 'double precision'), ('VAR_PORC_02_01', 'double precision'), ('VAR_PORC_03_02', 'double precision'), ('VAR_PORC_04_03', 'double precision'), ('VAR_PORC_05_04', 'double precision'), ('VAR_PORC_06_05', 'double precision'), ('VAR_PORC_07_06', 'double precision'), ('VAR_PORC_08_07', 'double precision'), ('VAR_PORC_09_08', 'double precision'), ('VAR_PORC_10_09', 'double precision'), ('VAR_PORC_11_10', 'double precision'), ('VAR_PORC_12_11', 'double precision'), ('CSMO_01', 'integer'), ('CSMO_02', 'integer'), ('CSMO_03', 'integer'), ('CSMO_04', 'integer'), ('CSMO_05', 'integer'), ('CSMO_06', 'integer'), ('CSMO_07', 'integer'), ('CSMO_08', 'integer'), ('CSMO_09', 'integer'), ('CSMO_10', 'integer'), ('CSMO_11', 'integer'), ('CSMO_12', 'integer'), ('CSMO_13', 'integer'), ('fecha_01', 'timestamp without time zone'), ('fecha_02', 'timestamp without time zone'), ('fecha_03', 'timestamp without time zone'), ('fecha_04', 'timestamp without time zone'), ('fecha_05', 'timestamp without time zone'), ('fecha_06', 'timestamp without time zone'), ('fecha_07', 'timestamp without time zone'), ('fecha_08', 'timestamp without time zone'), ('fecha_09', 'timestamp without time zone'), ('fecha_10', 'timestamp without time zone'), ('fecha_11', 'timestamp without time zone'), ('fecha_12', 'timestamp without time zone'), ('fecha_13', 'timestamp without time zone'), ('kva_01', 'integer'), ('kva_02', 'integer'), ('kva_03', 'integer'), ('kva_04', 'integer'), ('kva_05', 'integer'), ('kva_06', 'integer'), ('kva_07', 'integer'), ('Deuda_20', 'text'), ('SUBESTACION', 'text'), ('CIRCUITO', 'text'), ('TRANSFORMADOR', 'text'), ('NombreInm', 'text'), ('Grupo_Numerador', 'text'), ('Tipo_Aparato', 'text'), ('Categoria_Aparato', 'text'), ('Autoconsumo', 'text'), ('Nombre_Int_Com', 'text'), ('porcion', 'text'), ('Clase_Inst', 'text'), ('Tarifa', 'text'), ('REGIOGROUP', 'text'), ('Unidad_Lect', 'text'), ('POSTE', 'text'), ('prom_impte_12meses', 'text'), ('importe_01', 'text'), ('importe_02', 'text'), ('importe_03', 'text'), ('importe_04', 'text'), ('importe_05', 'text'), ('importe_06', 'text'), ('importe_07', 'text'), ('importe_08', 'text'), ('importe_09', 'text'), ('importe_10', 'text'), ('importe_11', 'text'), ('importe_12', 'text'), ('importe_13', 'text'), ('IMPORTEDIF_01', 'text'), ('IMPORTEDIF_02', 'text'), ('IMPORTEDIF_03', 'text'), ('IMPORTEDIF_04', 'text'), ('IMPORTEDIF_05', 'text'), ('IMPORTEDIF_06', 'text'), ('IMPORTEDIF_07', 'text'), ('IMPORTEDIF_08', 'text'), ('IMPORTEDIF_09', 'text'), ('IMPORTEDIF_10', 'text'), ('IMPORTEDIF_11', 'text'), ('IMPORTEDIF_12', 'text'), ('REGION', 'text'), ('Deuda_21_30', 'text'), ('Deuda_31_60', 'text'), ('Deuda_61_90', 'text'), ('Deuda_91_120', 'text'), ('Deuda_121_150', 'text'), ('Deuda_151_180', 'text'), ('Deuda_181_365', 'text'), ('Deuda_Mayor_365', 'text'), ('Deuda_Vencida', 'text'), ('Pto_Entrega_DT', 'text'), ('Pto_Medida', 'text'), ('Energia_calle2', 'text')]\n"
     ]
    }
   ],
   "source": [
    "# Obtener la estructura de la tabla en PostgreSQL\n",
    "pg_cursor.execute(\"SELECT column_name, data_type FROM information_schema.columns WHERE table_name = %s\", (table_name,))\n",
    "columns_pg = pg_cursor.fetchall()\n",
    "print(\"Estructura de la tabla en PostgreSQL:\", columns_pg)\n"
   ]
  },
  {
   "cell_type": "code",
   "execution_count": null,
   "id": "7d709ead-9b72-44df-b5b3-75659c9b26ff",
   "metadata": {},
   "outputs": [],
   "source": []
  }
 ],
 "metadata": {
  "kernelspec": {
   "display_name": "Python 3 (ipykernel)",
   "language": "python",
   "name": "python3"
  },
  "language_info": {
   "codemirror_mode": {
    "name": "ipython",
    "version": 3
   },
   "file_extension": ".py",
   "mimetype": "text/x-python",
   "name": "python",
   "nbconvert_exporter": "python",
   "pygments_lexer": "ipython3",
   "version": "3.12.8"
  }
 },
 "nbformat": 4,
 "nbformat_minor": 5
}
