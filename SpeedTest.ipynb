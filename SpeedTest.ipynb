{
 "cells": [
  {
   "cell_type": "markdown",
   "id": "01a3c096-4772-4c92-bac7-5316572aab0c",
   "metadata": {},
   "source": [
    "# Speed test de velocidad de internet"
   ]
  },
  {
   "cell_type": "code",
   "execution_count": 1,
   "id": "d6c30bd6-5fd8-4c9e-900f-5b27068b3ee6",
   "metadata": {},
   "outputs": [
    {
     "name": "stdout",
     "output_type": "stream",
     "text": [
      "Collecting speedtest-cli\n",
      "  Downloading speedtest_cli-2.1.3-py2.py3-none-any.whl.metadata (6.8 kB)\n",
      "Downloading speedtest_cli-2.1.3-py2.py3-none-any.whl (23 kB)\n",
      "Installing collected packages: speedtest-cli\n",
      "Successfully installed speedtest-cli-2.1.3\n",
      "Note: you may need to restart the kernel to use updated packages.\n"
     ]
    }
   ],
   "source": [
    "pip install speedtest-cli"
   ]
  },
  {
   "cell_type": "code",
   "execution_count": 2,
   "id": "a8e63b1f-70fe-4ba9-8296-2a0539d3a425",
   "metadata": {},
   "outputs": [],
   "source": [
    "import speedtest as st"
   ]
  },
  {
   "cell_type": "code",
   "execution_count": 3,
   "id": "408ad77e-8961-41c2-9c72-4055f8f3fc97",
   "metadata": {},
   "outputs": [
    {
     "name": "stdout",
     "output_type": "stream",
     "text": [
      "Velocidad de descarga en Mbps:  91.34\n",
      "Velocidad de subida en Mbps:  31.84\n",
      "Ping:  24.195\n"
     ]
    }
   ],
   "source": [
    "def Speed_Test():\n",
    "  test = st.Speedtest()\n",
    "\n",
    "  down_speed = test.download()\n",
    "  down_speed = round(down_speed / 10**6, 2)\n",
    "  print(\"Velocidad de descarga en Mbps: \", down_speed)\n",
    "\n",
    "  up_speed_speed = test.upload()\n",
    "  up_speed_speed = round(up_speed_speed / 10**6, 2)\n",
    "  print(\"Velocidad de subida en Mbps: \", up_speed_speed)\n",
    "\n",
    "  ping = test.results.ping\n",
    "  print(\"Ping: \", ping)\n",
    "\n",
    "Speed_Test()"
   ]
  },
  {
   "cell_type": "code",
   "execution_count": null,
   "id": "e68407b7-178e-4bac-bc5b-680b3f164e6f",
   "metadata": {},
   "outputs": [],
   "source": []
  }
 ],
 "metadata": {
  "kernelspec": {
   "display_name": "Python 3 (ipykernel)",
   "language": "python",
   "name": "python3"
  },
  "language_info": {
   "codemirror_mode": {
    "name": "ipython",
    "version": 3
   },
   "file_extension": ".py",
   "mimetype": "text/x-python",
   "name": "python",
   "nbconvert_exporter": "python",
   "pygments_lexer": "ipython3",
   "version": "3.10.11"
  }
 },
 "nbformat": 4,
 "nbformat_minor": 5
}
